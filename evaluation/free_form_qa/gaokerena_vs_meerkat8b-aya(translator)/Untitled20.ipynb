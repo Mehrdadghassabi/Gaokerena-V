{
  "cells": [
    {
      "cell_type": "code",
      "execution_count": null,
      "metadata": {
        "colab": {
          "base_uri": "https://localhost:8080/"
        },
        "id": "bJy_IV0k_nF8",
        "outputId": "a9c77805-242e-49b7-c7af-954d56aeaa2e"
      },
      "outputs": [
        {
          "output_type": "stream",
          "name": "stdout",
          "text": [
            "Collecting openai==0.28\n",
            "  Downloading openai-0.28.0-py3-none-any.whl.metadata (13 kB)\n",
            "Requirement already satisfied: requests>=2.20 in /usr/local/lib/python3.11/dist-packages (from openai==0.28) (2.32.3)\n",
            "Requirement already satisfied: tqdm in /usr/local/lib/python3.11/dist-packages (from openai==0.28) (4.67.1)\n",
            "Requirement already satisfied: aiohttp in /usr/local/lib/python3.11/dist-packages (from openai==0.28) (3.11.15)\n",
            "Requirement already satisfied: charset-normalizer<4,>=2 in /usr/local/lib/python3.11/dist-packages (from requests>=2.20->openai==0.28) (3.4.1)\n",
            "Requirement already satisfied: idna<4,>=2.5 in /usr/local/lib/python3.11/dist-packages (from requests>=2.20->openai==0.28) (3.10)\n",
            "Requirement already satisfied: urllib3<3,>=1.21.1 in /usr/local/lib/python3.11/dist-packages (from requests>=2.20->openai==0.28) (2.3.0)\n",
            "Requirement already satisfied: certifi>=2017.4.17 in /usr/local/lib/python3.11/dist-packages (from requests>=2.20->openai==0.28) (2025.1.31)\n",
            "Requirement already satisfied: aiohappyeyeballs>=2.3.0 in /usr/local/lib/python3.11/dist-packages (from aiohttp->openai==0.28) (2.6.1)\n",
            "Requirement already satisfied: aiosignal>=1.1.2 in /usr/local/lib/python3.11/dist-packages (from aiohttp->openai==0.28) (1.3.2)\n",
            "Requirement already satisfied: attrs>=17.3.0 in /usr/local/lib/python3.11/dist-packages (from aiohttp->openai==0.28) (25.3.0)\n",
            "Requirement already satisfied: frozenlist>=1.1.1 in /usr/local/lib/python3.11/dist-packages (from aiohttp->openai==0.28) (1.6.0)\n",
            "Requirement already satisfied: multidict<7.0,>=4.5 in /usr/local/lib/python3.11/dist-packages (from aiohttp->openai==0.28) (6.4.3)\n",
            "Requirement already satisfied: propcache>=0.2.0 in /usr/local/lib/python3.11/dist-packages (from aiohttp->openai==0.28) (0.3.1)\n",
            "Requirement already satisfied: yarl<2.0,>=1.17.0 in /usr/local/lib/python3.11/dist-packages (from aiohttp->openai==0.28) (1.20.0)\n",
            "Downloading openai-0.28.0-py3-none-any.whl (76 kB)\n",
            "\u001b[2K   \u001b[90m━━━━━━━━━━━━━━━━━━━━━━━━━━━━━━━━━━━━━━━━\u001b[0m \u001b[32m76.5/76.5 kB\u001b[0m \u001b[31m2.2 MB/s\u001b[0m eta \u001b[36m0:00:00\u001b[0m\n",
            "\u001b[?25hInstalling collected packages: openai\n",
            "  Attempting uninstall: openai\n",
            "    Found existing installation: openai 1.75.0\n",
            "    Uninstalling openai-1.75.0:\n",
            "      Successfully uninstalled openai-1.75.0\n",
            "Successfully installed openai-0.28.0\n"
          ]
        }
      ],
      "source": [
        "!pip install openai==0.28"
      ]
    },
    {
      "cell_type": "code",
      "execution_count": null,
      "metadata": {
        "id": "NdZtF4B4_e-n"
      },
      "outputs": [],
      "source": [
        "import openai\n",
        "import pandas as pd"
      ]
    },
    {
      "cell_type": "code",
      "execution_count": null,
      "metadata": {
        "id": "ZC2MkCs1_edf"
      },
      "outputs": [],
      "source": [
        "openai.api_key = 'Your-api'\n",
        "# comment the below line if you use original OPENAI api\n",
        "openai.api_base = 'https://api.avalai.ir/v1'"
      ]
    },
    {
      "cell_type": "code",
      "execution_count": null,
      "metadata": {
        "id": "zjgTgnq8mHH5"
      },
      "outputs": [],
      "source": [
        "prompt = f'''\n",
        "پاسخ دو مدل زبانی به یک سوال پزشکی به شما داده خواهد شد وظیفه شما این است که مطابق مراحل ارزیابی و معیار های ارزیابی داوری کنید که\n",
        "الف: پاسخ اول بهتر است\n",
        "ب: پاسخ دوم بهتر است\n",
        "\n",
        "لطفا از بین این سه گزینه انتخاب کنید و از ارائه اطلاعات اضافی خودداری کنید\n",
        "\n",
        "مراحل ارزیابی:\n",
        "۱.پرسش را بخوانید\n",
        "۲.پاسخ پزشک به این پرسش را بخوانید\n",
        "۳.پاسخ مدل زبانی نسخت به این پرسش را بخوانید\n",
        "۴.پاسخ مدل زبانی دوم به این پرسش را بخوانید\n",
        "۵.مطابق معیار های ارزیابی داوری خود را انجام دهید\n",
        "\n",
        "معیار های ارزیابی:\n",
        "۱.ارائه پاسخ جامع تر\n",
        "۲. عدم وجود اطلاعات نادرست\n",
        "\n",
        "## پرسش\n",
        "{{question}}\\n\n",
        "\n",
        "## پاسخ پزشک\n",
        "{{dresp}}\\n\n",
        "\n",
        "## پاسخ مدل زبانی نخست\n",
        "{{lm1resp}}\\n\n",
        "\n",
        "## پاسخ مدل زبانی دوم\n",
        "{{lm2resp}}\\n\n",
        "    '''"
      ]
    },
    {
      "cell_type": "code",
      "execution_count": null,
      "metadata": {
        "id": "my6ylco-AL0s"
      },
      "outputs": [],
      "source": [
        "def append_record_to_excel(file_path,question,answer,Sources,prmpt,opponent_answer,gao_answer,judgement):\n",
        "    new_record = {\n",
        "        'Question': question,\n",
        "        'answer': answer,\n",
        "        'Sources': Sources,\n",
        "        'Prompt':prmpt,\n",
        "        'pipeline_answer': opponent_answer,\n",
        "        'gao_answer': gao_answer,\n",
        "        'judgement':judgement,\n",
        "    }\n",
        "    new_record_df = pd.DataFrame([new_record])\n",
        "    try:\n",
        "        existing_df = pd.read_excel(file_path)\n",
        "        updated_df = pd.concat([existing_df, new_record_df], ignore_index=True)\n",
        "    except FileNotFoundError:\n",
        "        updated_df = new_record_df\n",
        "\n",
        "    updated_df.to_excel(file_path, index=False)\n"
      ]
    },
    {
      "cell_type": "code",
      "execution_count": null,
      "metadata": {
        "id": "XhYGQJj5-ya6"
      },
      "outputs": [],
      "source": [
        "def get_gpt4o_answer(prompt):\n",
        "    response = openai.ChatCompletion.create(\n",
        "        model=\"gpt-4o\",\n",
        "        messages=[\n",
        "            {\"role\": \"user\", \"content\": prompt}\n",
        "        ],\n",
        "        temperature = 0.0\n",
        "    )\n",
        "    result = response['choices'][0]['message']['content'].strip().lower()\n",
        "    return result"
      ]
    },
    {
      "cell_type": "code",
      "execution_count": null,
      "metadata": {
        "colab": {
          "base_uri": "https://localhost:8080/"
        },
        "id": "rDGGKYH69tSl",
        "outputId": "26fc55ff-ccb1-46aa-8eab-42842fc6638f"
      },
      "outputs": [
        {
          "output_type": "stream",
          "name": "stdout",
          "text": [
            "1978\n",
            "ب: پاسخ دوم بهتر است\n",
            "============================================================\n",
            "1979\n",
            "ب: پاسخ دوم بهتر است\n",
            "============================================================\n",
            "1980\n",
            "ب: پاسخ دوم بهتر است\n",
            "============================================================\n",
            "1981\n",
            "الف: پاسخ اول بهتر است\n",
            "============================================================\n",
            "1982\n",
            "ب: پاسخ دوم بهتر است\n",
            "============================================================\n",
            "1983\n",
            "ب: پاسخ دوم بهتر است\n",
            "============================================================\n",
            "1984\n",
            "ب: پاسخ دوم بهتر است\n",
            "============================================================\n",
            "1985\n",
            "ب: پاسخ دوم بهتر است\n",
            "============================================================\n",
            "1986\n",
            "ب: پاسخ دوم بهتر است\n",
            "============================================================\n",
            "1987\n",
            "الف: پاسخ اول بهتر است\n",
            "============================================================\n",
            "1988\n",
            "ب: پاسخ دوم بهتر است\n",
            "============================================================\n",
            "1989\n",
            "الف: پاسخ اول بهتر است\n",
            "============================================================\n",
            "1990\n",
            "ب: پاسخ دوم بهتر است\n",
            "============================================================\n",
            "1991\n",
            "ب: پاسخ دوم بهتر است\n",
            "============================================================\n",
            "1992\n",
            "ب: پاسخ دوم بهتر است\n",
            "============================================================\n",
            "1993\n",
            "ب: پاسخ دوم بهتر است\n",
            "============================================================\n",
            "1994\n",
            "الف: پاسخ اول بهتر است\n",
            "============================================================\n",
            "1995\n",
            "**الف: پاسخ اول بهتر است**\n",
            "============================================================\n",
            "1996\n",
            "ب: پاسخ دوم بهتر است\n",
            "============================================================\n",
            "1997\n",
            "ب: پاسخ دوم بهتر است\n",
            "============================================================\n",
            "1998\n",
            "ب: پاسخ دوم بهتر است\n",
            "============================================================\n",
            "1999\n",
            "ب: پاسخ دوم بهتر است\n",
            "============================================================\n",
            "2000\n",
            "الف: پاسخ اول بهتر است\n",
            "============================================================\n"
          ]
        }
      ],
      "source": [
        "df = pd.read_excel('answers.xlsx')\n",
        "i = 0\n",
        "bgn = 0\n",
        "for index,row in df.iterrows():\n",
        "        question = row['Question']\n",
        "        answer = row['answer']\n",
        "        Sources = row['Sources']\n",
        "        pipe_answer = row['Meerkat8b-aya(translator)_answer']\n",
        "        gao_answer = row['gao_answer']\n",
        "        prmpt = prompt.format(question=question,dresp=answer,lm1resp=pipe_answer,lm2resp=gao_answer)\n",
        "        i += 1\n",
        "        if i < bgn:\n",
        "           continue\n",
        "        judgement = get_gpt4o_answer(prmpt)\n",
        "        file_path = 'result.xlsx'\n",
        "        append_record_to_excel(file_path,question,answer,Sources,prmpt,pipe_answer,gao_answer,judgement)\n",
        "        print(i)\n",
        "        print(judgement)\n",
        "        print('============================================================')"
      ]
    },
    {
      "cell_type": "code",
      "source": [
        "df = pd.read_excel('result.xlsx')\n",
        "i = 0\n",
        "pipe_answer_prefered = 0\n",
        "gaos_answer_prefered = 0\n",
        "for index,row in df.iterrows():\n",
        "    judgement = row['judgement']\n",
        "    if 'اول' in judgement:\n",
        "       pipe_answer_prefered += 1\n",
        "    if 'دوم' in judgement:\n",
        "       gaos_answer_prefered += 1"
      ],
      "metadata": {
        "id": "4pvCmWDjkmDX"
      },
      "execution_count": null,
      "outputs": []
    },
    {
      "cell_type": "code",
      "source": [
        "print(\"in \" + str(pipe_answer_prefered/20.0) +\"% of question Meerkat8b-aya(translator)s answer prefered\")\n",
        "print(\"in \" + str(gaos_answer_prefered/20.0) +\"% of question gaokerenas answer prefered\")"
      ],
      "metadata": {
        "colab": {
          "base_uri": "https://localhost:8080/"
        },
        "id": "AkoMYMsRkfpp",
        "outputId": "4322d30c-0d4f-4b5c-f2b4-c53541cf5fb1"
      },
      "execution_count": null,
      "outputs": [
        {
          "output_type": "stream",
          "name": "stdout",
          "text": [
            "in 20.0% of question Meerkat8b-aya(translator)s answer prefered\n",
            "in 80.0% of question gaokerenas answer prefered\n"
          ]
        }
      ]
    }
  ],
  "metadata": {
    "colab": {
      "provenance": []
    },
    "kernelspec": {
      "display_name": "Python 3",
      "name": "python3"
    },
    "language_info": {
      "name": "python"
    }
  },
  "nbformat": 4,
  "nbformat_minor": 0
}